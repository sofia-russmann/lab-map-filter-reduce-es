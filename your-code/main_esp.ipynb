{
 "cells": [
  {
   "cell_type": "markdown",
   "metadata": {},
   "source": [
    "# Antes de empezar:\n",
    "- Lee el archivo README.md\n",
    "- Comenta todo lo que puedas y utiliza los recursos en el archivo README.md\n",
    "- ¡Feliz aprendizaje!"
   ]
  },
  {
   "cell_type": "code",
   "execution_count": 1,
   "metadata": {},
   "outputs": [],
   "source": [
    "# Import reduce from functools, numpy and pandas\n",
    "from functools import reduce\n",
    "import numpy\n",
    "import pandas"
   ]
  },
  {
   "cell_type": "markdown",
   "metadata": {},
   "source": [
    "# Desafío 1 - Mapping\n",
    "\n",
    "#### Usaremos la función map para limpiar palabras en un libro.\n",
    "\n",
    "En la siguiente celda, leeremos un archivo de texto que contiene el libro El Profeta de Khalil Gibran."
   ]
  },
  {
   "cell_type": "code",
   "execution_count": 2,
   "metadata": {},
   "outputs": [],
   "source": [
    "# Corre este codigo:\n",
    "\n",
    "location = '../data/58585-0.txt'\n",
    "with open(location, 'r', encoding=\"utf8\") as f:\n",
    "    prophet = f.read().split(' ')"
   ]
  },
  {
   "cell_type": "code",
   "execution_count": 3,
   "metadata": {},
   "outputs": [
    {
     "data": {
      "text/plain": [
       "13637"
      ]
     },
     "execution_count": 3,
     "metadata": {},
     "output_type": "execute_result"
    }
   ],
   "source": [
    "len(prophet)"
   ]
  },
  {
   "cell_type": "markdown",
   "metadata": {},
   "source": [
    "#### Vamos a eliminar las primeras 568 palabras ya que contienen información sobre el libro pero no son parte del libro en sí.\n",
    "\n",
    "Haz esto eliminando de `prophet` los elementos del 0 al 567 de la lista (también puedes hacer esto manteniendo los elementos del 568 al último elemento)."
   ]
  },
  {
   "cell_type": "code",
   "execution_count": 1,
   "metadata": {},
   "outputs": [],
   "source": [
    "# tu codigo aquí\n",
    "# Ubicación del archivo\n",
    "location = '../data/58585-0.txt'\n",
    "\n",
    "# Leer el archivo y dividir el texto en palabras\n",
    "with open(location, 'r', encoding=\"utf8\") as f:\n",
    "    prophet = f.read().split(' ')\n",
    "\n",
    "prophet_cleaned = prophet[568:]\n",
    "\n"
   ]
  },
  {
   "cell_type": "markdown",
   "metadata": {},
   "source": [
    "Si revisas las palabras, encontrarás que muchas palabras tienen una referencia adjunta a ellas. Por ejemplo, veamos las palabras del 1 al 10."
   ]
  },
  {
   "cell_type": "code",
   "execution_count": 2,
   "metadata": {},
   "outputs": [
    {
     "name": "stdout",
     "output_type": "stream",
     "text": [
      "['PROPHET\\n\\n|Almustafa,', 'the{7}', 'chosen', 'and', 'the\\nbeloved,', 'who', 'was', 'a', 'dawn', 'unto']\n"
     ]
    }
   ],
   "source": [
    "# tu codigo aquí\n",
    "print(prophet_cleaned[:10])"
   ]
  },
  {
   "cell_type": "markdown",
   "metadata": {},
   "source": [
    "#### El siguiente paso es crear una función que eliminará las referencias.\n",
    "\n",
    "Haremos esto dividiendo la cadena en el carácter `{` y manteniendo solo la parte antes de este carácter. Escribe tu función a continuación."
   ]
  },
  {
   "cell_type": "markdown",
   "metadata": {},
   "source": [
    "Ahora que tenemos nuestra función, usa la función `map()` para aplicar esta función a nuestro libro, El Profeta. Devuelve la lista resultante a una nueva lista llamada `prophet_reference`."
   ]
  },
  {
   "cell_type": "code",
   "execution_count": 4,
   "metadata": {},
   "outputs": [
    {
     "name": "stdout",
     "output_type": "stream",
     "text": [
      "['PROPHET\\n\\n|Almustafa,', 'the', 'chosen', 'and', 'the\\nbeloved,', 'who', 'was', 'a', 'dawn', 'unto']\n"
     ]
    }
   ],
   "source": [
    "# tu codigo aquí# Definir la función que elimina las referencias\n",
    "def referencia(x):\n",
    "    '''\n",
    "    Entrada: Una cadena\n",
    "    Salida: La cadena con las referencias eliminadas\n",
    "    \n",
    "    Ejemplo:\n",
    "    Entrada: 'the{7}'\n",
    "    Salida: 'the'\n",
    "    '''\n",
    "    return x.split('{')[0]\n",
    "\n",
    "# Aplicar la función referencia a cada palabra en la lista prophet usando map\n",
    "prophet_reference = list(map(referencia, prophet_cleaned))\n",
    "\n",
    "# Mostrar las primeras 10 palabras del texto limpio para verificar\n",
    "print(prophet_reference[:10])"
   ]
  },
  {
   "cell_type": "markdown",
   "metadata": {},
   "source": [
    "Otra cosa que podrías haber notado es que algunas palabras contienen un salto de línea. Escribamos una función para dividir esas palabras. Nuestra función devolverá la cadena dividida en el carácter `\\n`. Escribe tu función en la celda de abajo."
   ]
  },
  {
   "cell_type": "code",
   "execution_count": null,
   "metadata": {},
   "outputs": [],
   "source": [
    "def salto_de_linea(x):\n",
    "    '''\n",
    "    Entrada: Una cadena\n",
    "    Salida: Una lista de cadenas divididas en el carácter de salto de línea (\\n)\n",
    "        \n",
    "    Ejemplo:\n",
    "    Entrada: 'the\\nbeloved'\n",
    "    Salida: ['the', 'beloved']\n",
    "    '''\n",
    "    \n",
    "    # tu código aquí"
   ]
  },
  {
   "cell_type": "markdown",
   "metadata": {},
   "source": [
    "Aplica la función `salto_de_linea` a la lista `prophet_reference`. Nombra la nueva lista `prophet_line`."
   ]
  },
  {
   "cell_type": "code",
   "execution_count": null,
   "metadata": {
    "scrolled": true
   },
   "outputs": [],
   "source": [
    "# tu codigo aquí"
   ]
  },
  {
   "cell_type": "markdown",
   "metadata": {},
   "source": [
    "Si miras los elementos de `prophet_line`, verás que la función devolvió listas y no cadenas. Nuestra lista ahora es una lista de listas. Aplana la lista usando comprensión de listas. Asigna esta nueva lista a `prophet_flat`."
   ]
  },
  {
   "cell_type": "code",
   "execution_count": null,
   "metadata": {},
   "outputs": [],
   "source": [
    "prophet_flat = [i for sub in prophet_line for i in sub]\n",
    "prophet_flat"
   ]
  },
  {
   "cell_type": "code",
   "execution_count": null,
   "metadata": {},
   "outputs": [],
   "source": [
    "# tu codigo aquí"
   ]
  },
  {
   "cell_type": "markdown",
   "metadata": {},
   "source": [
    "# Desafío 2 - Filtering\n",
    "\n",
    "Al imprimir algunas palabras del libro, vemos que hay palabras que tal vez no queramos conservar si elegimos analizar el corpus de texto. A continuación, se muestra una lista de palabras que nos gustaría eliminar. Crea una función que devuelva falso si contiene una palabra de la lista de palabras especificadas y verdadero de lo contrario."
   ]
  },
  {
   "cell_type": "code",
   "execution_count": null,
   "metadata": {},
   "outputs": [],
   "source": [
    "def filtro_palabra(x):\n",
    "    '''\n",
    "    Entrada: Una cadena\n",
    "    Salida: Verdadero si la palabra no está en la lista especificada \n",
    "    y Falso si la palabra está en la lista.\n",
    "        \n",
    "    Ejemplo:\n",
    "    lista de palabras = ['and', 'the']\n",
    "    Entrada: 'and'\n",
    "    Salida: FALSE\n",
    "    \n",
    "    Entrada: 'John'\n",
    "    Salida: TRUE\n",
    "    '''\n",
    "    \n",
    "    lista_palabras = ['and', 'the', 'a', 'an']\n",
    "    \n",
    "    # tu código aquí"
   ]
  },
  {
   "cell_type": "markdown",
   "metadata": {},
   "source": [
    "Usa la función `filter()` para filtrar las palabras especificadas en la función `filtro_palabra()`. Guarda la lista filtrada en la variable `prophet_filter`.\n"
   ]
  },
  {
   "cell_type": "code",
   "execution_count": 5,
   "metadata": {
    "scrolled": true
   },
   "outputs": [
    {
     "ename": "FileNotFoundError",
     "evalue": "[Errno 2] No such file or directory: '58585-0.txt'",
     "output_type": "error",
     "traceback": [
      "\u001b[1;31m---------------------------------------------------------------------------\u001b[0m",
      "\u001b[1;31mFileNotFoundError\u001b[0m                         Traceback (most recent call last)",
      "Cell \u001b[1;32mIn[5], line 34\u001b[0m\n\u001b[0;32m     31\u001b[0m     \u001b[38;5;28;01mreturn\u001b[39;00m x\u001b[38;5;241m.\u001b[39mlower() \u001b[38;5;129;01mnot\u001b[39;00m \u001b[38;5;129;01min\u001b[39;00m lista_palabras\n\u001b[0;32m     33\u001b[0m \u001b[38;5;66;03m# Cargar el contenido del archivo\u001b[39;00m\n\u001b[1;32m---> 34\u001b[0m \u001b[38;5;28;01mwith\u001b[39;00m \u001b[38;5;28;43mopen\u001b[39;49m\u001b[43m(\u001b[49m\u001b[38;5;124;43m'\u001b[39;49m\u001b[38;5;124;43m58585-0.txt\u001b[39;49m\u001b[38;5;124;43m'\u001b[39;49m\u001b[43m,\u001b[49m\u001b[43m \u001b[49m\u001b[38;5;124;43m'\u001b[39;49m\u001b[38;5;124;43mr\u001b[39;49m\u001b[38;5;124;43m'\u001b[39;49m\u001b[43m,\u001b[49m\u001b[43m \u001b[49m\u001b[43mencoding\u001b[49m\u001b[38;5;241;43m=\u001b[39;49m\u001b[38;5;124;43m'\u001b[39;49m\u001b[38;5;124;43mutf-8\u001b[39;49m\u001b[38;5;124;43m'\u001b[39;49m\u001b[43m)\u001b[49m \u001b[38;5;28;01mas\u001b[39;00m file:\n\u001b[0;32m     35\u001b[0m     content \u001b[38;5;241m=\u001b[39m file\u001b[38;5;241m.\u001b[39mread()\n\u001b[0;32m     37\u001b[0m \u001b[38;5;66;03m# Dividir el contenido en palabras\u001b[39;00m\n",
      "File \u001b[1;32m~\\miniconda3\\Lib\\site-packages\\IPython\\core\\interactiveshell.py:324\u001b[0m, in \u001b[0;36m_modified_open\u001b[1;34m(file, *args, **kwargs)\u001b[0m\n\u001b[0;32m    317\u001b[0m \u001b[38;5;28;01mif\u001b[39;00m file \u001b[38;5;129;01min\u001b[39;00m {\u001b[38;5;241m0\u001b[39m, \u001b[38;5;241m1\u001b[39m, \u001b[38;5;241m2\u001b[39m}:\n\u001b[0;32m    318\u001b[0m     \u001b[38;5;28;01mraise\u001b[39;00m \u001b[38;5;167;01mValueError\u001b[39;00m(\n\u001b[0;32m    319\u001b[0m         \u001b[38;5;124mf\u001b[39m\u001b[38;5;124m\"\u001b[39m\u001b[38;5;124mIPython won\u001b[39m\u001b[38;5;124m'\u001b[39m\u001b[38;5;124mt let you open fd=\u001b[39m\u001b[38;5;132;01m{\u001b[39;00mfile\u001b[38;5;132;01m}\u001b[39;00m\u001b[38;5;124m by default \u001b[39m\u001b[38;5;124m\"\u001b[39m\n\u001b[0;32m    320\u001b[0m         \u001b[38;5;124m\"\u001b[39m\u001b[38;5;124mas it is likely to crash IPython. If you know what you are doing, \u001b[39m\u001b[38;5;124m\"\u001b[39m\n\u001b[0;32m    321\u001b[0m         \u001b[38;5;124m\"\u001b[39m\u001b[38;5;124myou can use builtins\u001b[39m\u001b[38;5;124m'\u001b[39m\u001b[38;5;124m open.\u001b[39m\u001b[38;5;124m\"\u001b[39m\n\u001b[0;32m    322\u001b[0m     )\n\u001b[1;32m--> 324\u001b[0m \u001b[38;5;28;01mreturn\u001b[39;00m \u001b[43mio_open\u001b[49m\u001b[43m(\u001b[49m\u001b[43mfile\u001b[49m\u001b[43m,\u001b[49m\u001b[43m \u001b[49m\u001b[38;5;241;43m*\u001b[39;49m\u001b[43margs\u001b[49m\u001b[43m,\u001b[49m\u001b[43m \u001b[49m\u001b[38;5;241;43m*\u001b[39;49m\u001b[38;5;241;43m*\u001b[39;49m\u001b[43mkwargs\u001b[49m\u001b[43m)\u001b[49m\n",
      "\u001b[1;31mFileNotFoundError\u001b[0m: [Errno 2] No such file or directory: '58585-0.txt'"
     ]
    }
   ],
   "source": [
    "from functools import reduce\n",
    "\n",
    "def referencia(x):\n",
    "    '''\n",
    "    Entrada: Una cadena\n",
    "    Salida: La cadena con las referencias eliminadas\n",
    "    \n",
    "    Ejemplo:\n",
    "    Entrada: 'the{7}'\n",
    "    Salida: 'the'\n",
    "    '''\n",
    "    return x.split('{')[0]\n",
    "\n",
    "def filtro_palabra(x):\n",
    "    '''\n",
    "    Entrada: Una cadena\n",
    "    Salida: Verdadero si la palabra no está en la lista especificada \n",
    "    y Falso si la palabra está en la lista.\n",
    "        \n",
    "    Ejemplo:\n",
    "    lista de palabras = ['and', 'the']\n",
    "    Entrada: 'and'\n",
    "    Salida: FALSE\n",
    "    \n",
    "    Entrada: 'John'\n",
    "    Salida: TRUE\n",
    "    '''\n",
    "    \n",
    "    lista_palabras = ['and', 'the', 'a', 'an']\n",
    "    \n",
    "    return x.lower() not in lista_palabras\n",
    "\n",
    "# Cargar el contenido del archivo\n",
    "with open('58585-0.txt', 'r', encoding='utf-8') as file:\n",
    "    content = file.read()\n",
    "\n",
    "# Dividir el contenido en palabras\n",
    "words = content.split()\n",
    "\n",
    "# Eliminar las primeras 568 palabras\n",
    "filtered_words = list(filter(lambda x: words.index(x) >= 568, words))\n",
    "\n",
    "# Eliminar referencias usando la función referencia\n",
    "filtered_words_no_references = list(map(referencia, filtered_words))\n",
    "\n",
    "# Filtrar las palabras usando la función filtro_palabra\n",
    "prophet_filter = list(filter(filtro_palabra, filtered_words_no_references))\n",
    "\n",
    "# Imprimir las primeras 100 palabras de la lista filtrada como muestra\n",
    "print(prophet_filter[:100])"
   ]
  },
  {
   "cell_type": "markdown",
   "metadata": {},
   "source": [
    "# Desafío extra\n",
    "\n",
    "Reescribe la función `filtro_palabra` de arriba para que no sea sensible a mayúsculas y minúsculas."
   ]
  },
  {
   "cell_type": "code",
   "execution_count": null,
   "metadata": {},
   "outputs": [],
   "source": [
    "def word_filter_case(x):\n",
    "   \n",
    "    word_list = ['and', 'the', 'a', 'an']\n",
    "    \n",
    "    # your code here\n",
    "    counting = sum([x.lower().count(i) for i in word_list])\n",
    "    return False if counting > 0 else True"
   ]
  },
  {
   "cell_type": "markdown",
   "metadata": {},
   "source": [
    "# Desafío 3 - Reducing\n",
    "\n",
    "#### Ahora que hemos limpiado significativamente nuestro corpus de texto, usemos la función `reduce()` para volver a unir las palabras en una cadena larga separada por espacios.\n",
    "\n",
    "Comenzaremos escribiendo una función que toma dos cadenas y las concatena juntas con un espacio entre las dos cadenas.\n"
   ]
  },
  {
   "cell_type": "code",
   "execution_count": null,
   "metadata": {},
   "outputs": [],
   "source": [
    "def concatenar_espacio(a, b):\n",
    "    '''\n",
    "    Entrada: Dos cadenas\n",
    "    Salida: Una única cadena separada por un espacio\n",
    "        \n",
    "    Ejemplo:\n",
    "    Entrada: 'John', 'Smith'\n",
    "    Salida: 'John Smith'\n",
    "    '''\n",
    "    \n",
    "    # tu código aquí"
   ]
  },
  {
   "cell_type": "code",
   "execution_count": null,
   "metadata": {
    "scrolled": true
   },
   "outputs": [],
   "source": [
    "# tu código aquí"
   ]
  },
  {
   "cell_type": "markdown",
   "metadata": {},
   "source": [
    "Usa la función de arriba para reducir el corpus de texto en la lista `prophet_filter` a una única cadena. Asigna esta nueva cadena a la variable `prophet_string`."
   ]
  },
  {
   "cell_type": "code",
   "execution_count": null,
   "metadata": {},
   "outputs": [],
   "source": [
    "# tu código aquí"
   ]
  }
 ],
 "metadata": {
  "kernelspec": {
   "display_name": "Python 3 (ipykernel)",
   "language": "python",
   "name": "python3"
  },
  "language_info": {
   "codemirror_mode": {
    "name": "ipython",
    "version": 3
   },
   "file_extension": ".py",
   "mimetype": "text/x-python",
   "name": "python",
   "nbconvert_exporter": "python",
   "pygments_lexer": "ipython3",
   "version": "3.12.8"
  }
 },
 "nbformat": 4,
 "nbformat_minor": 4
}
